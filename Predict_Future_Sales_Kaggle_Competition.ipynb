{
  "nbformat": 4,
  "nbformat_minor": 0,
  "metadata": {
    "colab": {
      "name": "Predict Future Sales_Kaggle Competition.ipynb",
      "provenance": [],
      "collapsed_sections": []
    },
    "kernelspec": {
      "name": "python3",
      "display_name": "Python 3"
    },
    "language_info": {
      "name": "python"
    },
    "widgets": {
      "application/vnd.jupyter.widget-state+json": {
        "6260cea6dea24aaf83c42953d297c082": {
          "model_module": "@jupyter-widgets/controls",
          "model_name": "HBoxModel",
          "model_module_version": "1.5.0",
          "state": {
            "_dom_classes": [],
            "_model_module": "@jupyter-widgets/controls",
            "_model_module_version": "1.5.0",
            "_model_name": "HBoxModel",
            "_view_count": null,
            "_view_module": "@jupyter-widgets/controls",
            "_view_module_version": "1.5.0",
            "_view_name": "HBoxView",
            "box_style": "",
            "children": [
              "IPY_MODEL_c2e22f4488f54c79badaec11cdd01d02",
              "IPY_MODEL_43aa00f8b6654ef5b058ececef58696d",
              "IPY_MODEL_9c22a61a14b441fe81627f3bf118eec9"
            ],
            "layout": "IPY_MODEL_c7584ea2870b4d45a2c2d7684a0e52b1"
          }
        },
        "c2e22f4488f54c79badaec11cdd01d02": {
          "model_module": "@jupyter-widgets/controls",
          "model_name": "HTMLModel",
          "model_module_version": "1.5.0",
          "state": {
            "_dom_classes": [],
            "_model_module": "@jupyter-widgets/controls",
            "_model_module_version": "1.5.0",
            "_model_name": "HTMLModel",
            "_view_count": null,
            "_view_module": "@jupyter-widgets/controls",
            "_view_module_version": "1.5.0",
            "_view_name": "HTMLView",
            "description": "",
            "description_tooltip": null,
            "layout": "IPY_MODEL_cc4580af82d24367ae82e8ae58eddf87",
            "placeholder": "​",
            "style": "IPY_MODEL_74835c9461514858ae0fef95d6c9f3c7",
            "value": "100%"
          }
        },
        "43aa00f8b6654ef5b058ececef58696d": {
          "model_module": "@jupyter-widgets/controls",
          "model_name": "FloatProgressModel",
          "model_module_version": "1.5.0",
          "state": {
            "_dom_classes": [],
            "_model_module": "@jupyter-widgets/controls",
            "_model_module_version": "1.5.0",
            "_model_name": "FloatProgressModel",
            "_view_count": null,
            "_view_module": "@jupyter-widgets/controls",
            "_view_module_version": "1.5.0",
            "_view_name": "ProgressView",
            "bar_style": "success",
            "description": "",
            "description_tooltip": null,
            "layout": "IPY_MODEL_9dde595c61914410aff50ff044fedda5",
            "max": 5,
            "min": 0,
            "orientation": "horizontal",
            "style": "IPY_MODEL_e14b2e4b9ff940fa97074f7c2aef52f0",
            "value": 5
          }
        },
        "9c22a61a14b441fe81627f3bf118eec9": {
          "model_module": "@jupyter-widgets/controls",
          "model_name": "HTMLModel",
          "model_module_version": "1.5.0",
          "state": {
            "_dom_classes": [],
            "_model_module": "@jupyter-widgets/controls",
            "_model_module_version": "1.5.0",
            "_model_name": "HTMLModel",
            "_view_count": null,
            "_view_module": "@jupyter-widgets/controls",
            "_view_module_version": "1.5.0",
            "_view_name": "HTMLView",
            "description": "",
            "description_tooltip": null,
            "layout": "IPY_MODEL_a2dbd1a089754a989d8435d4c8c0e63e",
            "placeholder": "​",
            "style": "IPY_MODEL_8daf1d5306a045a298ee43184940f12e",
            "value": " 5/5 [00:44&lt;00:00,  8.71s/it]"
          }
        },
        "c7584ea2870b4d45a2c2d7684a0e52b1": {
          "model_module": "@jupyter-widgets/base",
          "model_name": "LayoutModel",
          "model_module_version": "1.2.0",
          "state": {
            "_model_module": "@jupyter-widgets/base",
            "_model_module_version": "1.2.0",
            "_model_name": "LayoutModel",
            "_view_count": null,
            "_view_module": "@jupyter-widgets/base",
            "_view_module_version": "1.2.0",
            "_view_name": "LayoutView",
            "align_content": null,
            "align_items": null,
            "align_self": null,
            "border": null,
            "bottom": null,
            "display": null,
            "flex": null,
            "flex_flow": null,
            "grid_area": null,
            "grid_auto_columns": null,
            "grid_auto_flow": null,
            "grid_auto_rows": null,
            "grid_column": null,
            "grid_gap": null,
            "grid_row": null,
            "grid_template_areas": null,
            "grid_template_columns": null,
            "grid_template_rows": null,
            "height": null,
            "justify_content": null,
            "justify_items": null,
            "left": null,
            "margin": null,
            "max_height": null,
            "max_width": null,
            "min_height": null,
            "min_width": null,
            "object_fit": null,
            "object_position": null,
            "order": null,
            "overflow": null,
            "overflow_x": null,
            "overflow_y": null,
            "padding": null,
            "right": null,
            "top": null,
            "visibility": null,
            "width": null
          }
        },
        "cc4580af82d24367ae82e8ae58eddf87": {
          "model_module": "@jupyter-widgets/base",
          "model_name": "LayoutModel",
          "model_module_version": "1.2.0",
          "state": {
            "_model_module": "@jupyter-widgets/base",
            "_model_module_version": "1.2.0",
            "_model_name": "LayoutModel",
            "_view_count": null,
            "_view_module": "@jupyter-widgets/base",
            "_view_module_version": "1.2.0",
            "_view_name": "LayoutView",
            "align_content": null,
            "align_items": null,
            "align_self": null,
            "border": null,
            "bottom": null,
            "display": null,
            "flex": null,
            "flex_flow": null,
            "grid_area": null,
            "grid_auto_columns": null,
            "grid_auto_flow": null,
            "grid_auto_rows": null,
            "grid_column": null,
            "grid_gap": null,
            "grid_row": null,
            "grid_template_areas": null,
            "grid_template_columns": null,
            "grid_template_rows": null,
            "height": null,
            "justify_content": null,
            "justify_items": null,
            "left": null,
            "margin": null,
            "max_height": null,
            "max_width": null,
            "min_height": null,
            "min_width": null,
            "object_fit": null,
            "object_position": null,
            "order": null,
            "overflow": null,
            "overflow_x": null,
            "overflow_y": null,
            "padding": null,
            "right": null,
            "top": null,
            "visibility": null,
            "width": null
          }
        },
        "74835c9461514858ae0fef95d6c9f3c7": {
          "model_module": "@jupyter-widgets/controls",
          "model_name": "DescriptionStyleModel",
          "model_module_version": "1.5.0",
          "state": {
            "_model_module": "@jupyter-widgets/controls",
            "_model_module_version": "1.5.0",
            "_model_name": "DescriptionStyleModel",
            "_view_count": null,
            "_view_module": "@jupyter-widgets/base",
            "_view_module_version": "1.2.0",
            "_view_name": "StyleView",
            "description_width": ""
          }
        },
        "9dde595c61914410aff50ff044fedda5": {
          "model_module": "@jupyter-widgets/base",
          "model_name": "LayoutModel",
          "model_module_version": "1.2.0",
          "state": {
            "_model_module": "@jupyter-widgets/base",
            "_model_module_version": "1.2.0",
            "_model_name": "LayoutModel",
            "_view_count": null,
            "_view_module": "@jupyter-widgets/base",
            "_view_module_version": "1.2.0",
            "_view_name": "LayoutView",
            "align_content": null,
            "align_items": null,
            "align_self": null,
            "border": null,
            "bottom": null,
            "display": null,
            "flex": null,
            "flex_flow": null,
            "grid_area": null,
            "grid_auto_columns": null,
            "grid_auto_flow": null,
            "grid_auto_rows": null,
            "grid_column": null,
            "grid_gap": null,
            "grid_row": null,
            "grid_template_areas": null,
            "grid_template_columns": null,
            "grid_template_rows": null,
            "height": null,
            "justify_content": null,
            "justify_items": null,
            "left": null,
            "margin": null,
            "max_height": null,
            "max_width": null,
            "min_height": null,
            "min_width": null,
            "object_fit": null,
            "object_position": null,
            "order": null,
            "overflow": null,
            "overflow_x": null,
            "overflow_y": null,
            "padding": null,
            "right": null,
            "top": null,
            "visibility": null,
            "width": null
          }
        },
        "e14b2e4b9ff940fa97074f7c2aef52f0": {
          "model_module": "@jupyter-widgets/controls",
          "model_name": "ProgressStyleModel",
          "model_module_version": "1.5.0",
          "state": {
            "_model_module": "@jupyter-widgets/controls",
            "_model_module_version": "1.5.0",
            "_model_name": "ProgressStyleModel",
            "_view_count": null,
            "_view_module": "@jupyter-widgets/base",
            "_view_module_version": "1.2.0",
            "_view_name": "StyleView",
            "bar_color": null,
            "description_width": ""
          }
        },
        "a2dbd1a089754a989d8435d4c8c0e63e": {
          "model_module": "@jupyter-widgets/base",
          "model_name": "LayoutModel",
          "model_module_version": "1.2.0",
          "state": {
            "_model_module": "@jupyter-widgets/base",
            "_model_module_version": "1.2.0",
            "_model_name": "LayoutModel",
            "_view_count": null,
            "_view_module": "@jupyter-widgets/base",
            "_view_module_version": "1.2.0",
            "_view_name": "LayoutView",
            "align_content": null,
            "align_items": null,
            "align_self": null,
            "border": null,
            "bottom": null,
            "display": null,
            "flex": null,
            "flex_flow": null,
            "grid_area": null,
            "grid_auto_columns": null,
            "grid_auto_flow": null,
            "grid_auto_rows": null,
            "grid_column": null,
            "grid_gap": null,
            "grid_row": null,
            "grid_template_areas": null,
            "grid_template_columns": null,
            "grid_template_rows": null,
            "height": null,
            "justify_content": null,
            "justify_items": null,
            "left": null,
            "margin": null,
            "max_height": null,
            "max_width": null,
            "min_height": null,
            "min_width": null,
            "object_fit": null,
            "object_position": null,
            "order": null,
            "overflow": null,
            "overflow_x": null,
            "overflow_y": null,
            "padding": null,
            "right": null,
            "top": null,
            "visibility": null,
            "width": null
          }
        },
        "8daf1d5306a045a298ee43184940f12e": {
          "model_module": "@jupyter-widgets/controls",
          "model_name": "DescriptionStyleModel",
          "model_module_version": "1.5.0",
          "state": {
            "_model_module": "@jupyter-widgets/controls",
            "_model_module_version": "1.5.0",
            "_model_name": "DescriptionStyleModel",
            "_view_count": null,
            "_view_module": "@jupyter-widgets/base",
            "_view_module_version": "1.2.0",
            "_view_name": "StyleView",
            "description_width": ""
          }
        }
      }
    },
    "accelerator": "GPU"
  },
  "cells": [
    {
      "cell_type": "markdown",
      "source": [
        "#<center>**Solution for \"Predict Future Sales\" Kaggle Competition**</center>\n",
        "\n",
        "#####<center>Competition Link: https://www.kaggle.com/competitions/competitive-data-science-predict-future-sales</center>"
      ],
      "metadata": {
        "id": "LmNoLNhO5WLL"
      }
    },
    {
      "cell_type": "code",
      "source": [
        "# Importing the libraries\n",
        "\n",
        "import pandas as pd\n",
        "import numpy as np\n",
        "import gc\n",
        "import os\n",
        "import matplotlib.pyplot as plt\n",
        "import seaborn as sns\n",
        "%matplotlib inline \n",
        "\n",
        "pd.set_option('display.max_rows', 600)\n",
        "pd.set_option('display.max_columns', 50)\n",
        "\n",
        "import lightgbm as lgb\n",
        "from sklearn.linear_model import LinearRegression\n",
        "from sklearn.metrics import r2_score\n",
        "from tqdm import tqdm_notebook\n",
        "\n",
        "from itertools import product\n",
        "\n",
        "import pickle"
      ],
      "metadata": {
        "id": "q_ojxTfdJnRA"
      },
      "execution_count": null,
      "outputs": []
    },
    {
      "cell_type": "code",
      "source": [
        "#Function for reducing the size of a dataframe for a better memory usage\n",
        "\n",
        "def downcast_dtypes(df):\n",
        "    '''\n",
        "        Changes column types in the dataframe: \n",
        "                \n",
        "                `float64` type to `float32`\n",
        "                `int64`   type to `int32`\n",
        "    '''\n",
        "    \n",
        "    # Select columns to downcast\n",
        "    float_cols = [c for c in df if df[c].dtype == \"float64\"]\n",
        "    int_cols =   [c for c in df if df[c].dtype == \"int64\"]\n",
        "    \n",
        "    # Downcast\n",
        "    df[float_cols] = df[float_cols].astype(np.float32)\n",
        "    df[int_cols]   = df[int_cols].astype(np.int32)\n",
        "    \n",
        "    return df"
      ],
      "metadata": {
        "id": "eQ6VgW9yPoEM"
      },
      "execution_count": null,
      "outputs": []
    },
    {
      "cell_type": "code",
      "source": [
        "from google.colab import drive\n",
        "\n",
        "drive.mount('/content/drive')"
      ],
      "metadata": {
        "colab": {
          "base_uri": "https://localhost:8080/"
        },
        "id": "c2Kv93idoS2A",
        "outputId": "2f9979f9-6f52-4edb-d523-dd39c24f9a49"
      },
      "execution_count": null,
      "outputs": [
        {
          "output_type": "stream",
          "name": "stdout",
          "text": [
            "Mounted at /content/drive\n"
          ]
        }
      ]
    },
    {
      "cell_type": "code",
      "source": [
        "# Reading the data\n",
        "\n",
        "DATA_FOLDER = '/content/drive/MyDrive/Kaggle_Competition/Data'\n",
        "\n",
        "train_data = pd.read_csv(os.path.join(DATA_FOLDER, 'sales_train.csv'))\n",
        "test_data = pd.read_csv(os.path.join(DATA_FOLDER, 'test.csv')).set_index('ID')\n",
        "items = pd.read_csv(os.path.join(DATA_FOLDER, 'items.csv'))\n",
        "item_categories = pd.read_csv(os.path.join(DATA_FOLDER, 'item_categories.csv'))\n",
        "shops = pd.read_csv(os.path.join(DATA_FOLDER, 'shops.csv'))\n",
        "\n",
        "print(train_data.shape, test_data.shape, items.shape, item_categories.shape, shops.shape)"
      ],
      "metadata": {
        "colab": {
          "base_uri": "https://localhost:8080/"
        },
        "id": "jmX4P1kaJ_xH",
        "outputId": "f5283f38-6a2a-4d81-926b-d974957b31e2"
      },
      "execution_count": null,
      "outputs": [
        {
          "output_type": "stream",
          "name": "stdout",
          "text": [
            "(2935849, 6) (214200, 2) (22170, 3) (84, 2) (60, 2)\n"
          ]
        }
      ]
    },
    {
      "cell_type": "code",
      "source": [
        "#Exploratory Data Analysis (EDA)\n",
        "\n",
        "#Visualization of the count and price of items per each sample of the training dataset using 'Boxplot'\n",
        "plt.figure(figsize=(10,4))\n",
        "sns.boxplot(train_data.item_cnt_day)\n",
        "\n",
        "plt.figure(figsize=(10,4))\n",
        "sns.boxplot(x=train_data.item_price)"
      ],
      "metadata": {
        "colab": {
          "base_uri": "https://localhost:8080/",
          "height": 615
        },
        "id": "ql5ob7FpKGR4",
        "outputId": "fb7f97db-2628-42b2-e2b1-9b15dae688e4"
      },
      "execution_count": null,
      "outputs": [
        {
          "output_type": "stream",
          "name": "stderr",
          "text": [
            "/usr/local/lib/python3.7/dist-packages/seaborn/_decorators.py:43: FutureWarning: Pass the following variable as a keyword arg: x. From version 0.12, the only valid positional argument will be `data`, and passing other arguments without an explicit keyword will result in an error or misinterpretation.\n",
            "  FutureWarning\n"
          ]
        },
        {
          "output_type": "execute_result",
          "data": {
            "text/plain": [
              "<matplotlib.axes._subplots.AxesSubplot at 0x7fd853d5a110>"
            ]
          },
          "metadata": {},
          "execution_count": 5
        },
        {
          "output_type": "display_data",
          "data": {
            "text/plain": [
              "<Figure size 720x288 with 1 Axes>"
            ],
            "image/png": "[encoded data removed]"
          },
          "metadata": {
            "needs_background": "light"
          }
        },
        {
          "output_type": "display_data",
          "data": {
            "text/plain": [
              "<Figure size 720x288 with 1 Axes>"
            ],
            "image/png": "[encoded data removed]"
          },
          "metadata": {
            "needs_background": "light"
          }
        }
      ]
    },
    {
      "cell_type": "code",
      "source": [
        "#Remove the outliers detected from the above visualization\n",
        "\n",
        "train_data = train_data[train_data.item_cnt_day<1001]\n",
        "train_data = train_data[train_data.item_price<100000]"
      ],
      "metadata": {
        "id": "7OpMWiJdNlWb"
      },
      "execution_count": null,
      "outputs": []
    },
    {
      "cell_type": "code",
      "source": [
        "#Visualization of the training target values\n",
        "\n",
        "target_visualize = train_data.groupby(['shop_id', 'item_id', 'date_block_num']).agg({'item_cnt_day': 'sum'})\n",
        "plt.hist(target_visualize.values) #The values are clustered in one range, so clipping of the target values would be required"
      ],
      "metadata": {
        "colab": {
          "base_uri": "https://localhost:8080/",
          "height": 380
        },
        "id": "z2XQalfYrjy1",
        "outputId": "94c13f64-39d6-4250-ec99-bdb069b58046"
      },
      "execution_count": null,
      "outputs": [
        {
          "output_type": "execute_result",
          "data": {
            "text/plain": [
              "(array([1.608553e+06, 3.780000e+02, 8.800000e+01, 5.600000e+01,\n",
              "        2.700000e+01, 8.000000e+00, 8.000000e+00, 3.000000e+00,\n",
              "        0.000000e+00, 2.000000e+00]),\n",
              " array([ -22. ,  144.6,  311.2,  477.8,  644.4,  811. ,  977.6, 1144.2,\n",
              "        1310.8, 1477.4, 1644. ]),\n",
              " <a list of 10 Patch objects>)"
            ]
          },
          "metadata": {},
          "execution_count": 7
        },
        {
          "output_type": "display_data",
          "data": {
            "text/plain": [
              "<Figure size 432x288 with 1 Axes>"
            ],
            "image/png": "[encoded data removed]"
          },
          "metadata": {
            "needs_background": "light"
          }
        }
      ]
    },
    {
      "cell_type": "code",
      "source": [
        "#Visualization of the training target values after clipping from 0 to 20\n",
        "\n",
        "target_visualize_clip = train_data.groupby(['shop_id', 'item_id', 'date_block_num']).agg({'item_cnt_day': 'sum'}).clip(0, 20)\n",
        "plt.hist(target_visualize_clip.values) #The values are now distributed in a better way"
      ],
      "metadata": {
        "colab": {
          "base_uri": "https://localhost:8080/",
          "height": 345
        },
        "id": "ZiPB_mn_PQrX",
        "outputId": "c47c3591-d851-4025-b6c8-e2b466d49e01"
      },
      "execution_count": null,
      "outputs": [
        {
          "output_type": "execute_result",
          "data": {
            "text/plain": [
              "(array([1062322.,  368729.,   85301.,   34791.,   17970.,   10496.,\n",
              "           6765.,    4524.,    3327.,   14898.]),\n",
              " array([ 0.,  2.,  4.,  6.,  8., 10., 12., 14., 16., 18., 20.]),\n",
              " <a list of 10 Patch objects>)"
            ]
          },
          "metadata": {},
          "execution_count": 8
        },
        {
          "output_type": "display_data",
          "data": {
            "text/plain": [
              "<Figure size 432x288 with 1 Axes>"
            ],
            "image/png": "[encoded data removed]"
          },
          "metadata": {
            "needs_background": "light"
          }
        }
      ]
    },
    {
      "cell_type": "code",
      "source": [
        "#Extra data cleaning steps\n",
        "\n",
        "median = train_data[(train_data.shop_id == 32) & (train_data.item_id == 2973) & (train_data.date_block_num == 4) & (\n",
        "            train_data.item_price > 0)].item_price.median()\n",
        "train_data.loc[train_data.item_price < 0, 'item_price'] = median\n",
        "\n",
        "train_data.loc[train_data.shop_id == 0, 'shop_id'] = 57\n",
        "test_data.loc[test_data.shop_id == 0, 'shop_id'] = 57\n",
        "train_data.loc[train_data.shop_id == 1, 'shop_id'] = 58\n",
        "test_data.loc[test_data.shop_id == 1, 'shop_id'] = 58\n",
        "train_data.loc[train_data.shop_id == 10, 'shop_id'] = 11\n",
        "test_data.loc[test_data.shop_id == 10, 'shop_id'] = 11"
      ],
      "metadata": {
        "id": "OEBSNs6vuOam"
      },
      "execution_count": null,
      "outputs": []
    },
    {
      "cell_type": "code",
      "source": [
        "#Feature Extraction - \"Month\" and \"Year\" Features\n",
        "\n",
        "#\"Month\" and \"Year\" are simple features that we can add to our model given that we know the month and the year of the testing data\n",
        "train_data[['day', 'month', 'year']] = train_data['date'].str.split('.', expand=True)\n",
        "train_data['year'] = train_data['year'].astype(int)\n",
        "train_data['month'] = train_data['month'].astype(int)"
      ],
      "metadata": {
        "id": "-W0ptdokXDsw"
      },
      "execution_count": null,
      "outputs": []
    },
    {
      "cell_type": "code",
      "source": [
        "#Feature Extraction - Simple Features\n",
        "\n",
        "#We can create a matrix/grid for all the shops/items combinations at a certain month\n",
        "\n",
        "# Create \"grid\" with columns\n",
        "index_cols = ['shop_id', 'item_id', 'month', 'year', 'date_block_num']\n",
        "\n",
        "# Creating the feature matrix\n",
        "grid = [] \n",
        "for block_num in train_data['date_block_num'].unique():\n",
        "    cur_shops = train_data.loc[train_data['date_block_num'] == block_num, 'shop_id'].unique()\n",
        "    cur_items = train_data.loc[train_data['date_block_num'] == block_num, 'item_id'].unique()\n",
        "    cur_month = train_data.loc[train_data['date_block_num'] == block_num, 'month'].unique()\n",
        "    cur_year = train_data.loc[train_data['date_block_num'] == block_num, 'year'].unique()\n",
        "    grid.append(np.array(list(product(*[cur_shops, cur_items, cur_month, cur_year, [block_num]])),dtype='int32'))\n",
        "\n",
        "# Turn the grid into a dataframe\n",
        "grid = pd.DataFrame(np.vstack(grid), columns = index_cols,dtype=np.int32)\n",
        "\n",
        "# Creating the \"target\" column and a feature to represent the price mean of an item at a shop per month\n",
        "gb = train_data.groupby(index_cols).agg({'item_cnt_day': 'sum', 'item_price': 'mean'})\n",
        "gb = gb.reset_index()\n",
        "gb = gb.rename(columns={'item_cnt_day': 'target', 'item_price': 'item_price_mean'})\n",
        "\n",
        "# Join the created feature and target column to the grid\n",
        "train_data_monthly = pd.merge(grid, gb, how='left', on=index_cols).fillna(0)\n",
        "\n",
        "# Adding the testing data to the feature grid\n",
        "test_data['date_block_num'] = 34\n",
        "test_data['year'] = 2015\n",
        "test_data['month'] = 11\n",
        "train_data_monthly = pd.concat([train_data_monthly, test_data], ignore_index=True, sort=False, keys=index_cols)\n",
        "train_data_monthly.fillna(0, inplace=True)\n",
        "\n",
        "# Add a feature of the \"Category ID\" for each item\n",
        "item_category_mapping = items[['item_id','item_category_id']].drop_duplicates()\n",
        "train_data_monthly = pd.merge(train_data_monthly, item_category_mapping, how='left', on='item_id')\n",
        "train_data = pd.merge(train_data, item_category_mapping, on=['item_id'], how='left')\n",
        "\n",
        "# Add a feature of mean of number of items sold for each shop per month\n",
        "gb = train_data.groupby(['date_block_num', 'shop_id']).agg({'item_cnt_day':[('shop_block_target_mean',np.mean)]})\n",
        "gb.columns = [col[0] if col[-1]=='' else col[-1] for col in gb.columns.values]\n",
        "train_data_monthly = pd.merge(train_data_monthly, gb, how='left', on=['date_block_num', 'shop_id']).fillna(0)\n",
        "\n",
        "# Add a feature of mean of number of items/pieces sold for each item per month\n",
        "gb = train_data.groupby(['date_block_num', 'item_id']).agg({'item_cnt_day':[('item_block_target_mean',np.mean)]})\n",
        "gb.columns = [col[0] if col[-1]=='' else col[-1] for col in gb.columns.values]\n",
        "train_data_monthly = pd.merge(train_data_monthly, gb, how='left', on=['date_block_num', 'item_id']).fillna(0)\n",
        "\n",
        "# Downcast dtypes from 64 to 32 bit to save memory\n",
        "all_data = downcast_dtypes(train_data_monthly)\n",
        "del grid, gb \n",
        "gc.collect();"
      ],
      "metadata": {
        "id": "FWVBMB0PhpFr"
      },
      "execution_count": null,
      "outputs": []
    },
    {
      "cell_type": "code",
      "source": [
        "# Feature Extraction - \"Lag\" Features\n",
        "\n",
        "# List of columns that we will use to create lags\n",
        "index_cols = ['shop_id', 'item_id', 'date_block_num', 'item_category_id']\n",
        "cols_to_rename = list(all_data.columns.difference(['shop_id', 'item_id', 'date_block_num', 'item_category_id', 'month', 'year'])) \n",
        "\n",
        "# Create lag features from 1, 2, 3, 6, and 12 months ago\n",
        "shift_range = [1, 2, 3, 6, 12]\n",
        "for month_shift in tqdm_notebook(shift_range):\n",
        "    train_shift = train_data_monthly[index_cols + cols_to_rename].copy()\n",
        "    train_shift['date_block_num'] = train_shift['date_block_num'] + month_shift\n",
        "    foo = lambda x: '{}_lag_{}'.format(x, month_shift) if x in cols_to_rename else x\n",
        "    train_shift = train_shift.rename(columns=foo)\n",
        "    train_data_monthly = pd.merge(train_data_monthly, train_shift, on=index_cols, how='left').fillna(0)\n",
        "del train_shift\n",
        "\n",
        "# Remove old data from year 2013\n",
        "train_data_monthly = train_data_monthly[train_data_monthly['date_block_num'] >= 12] "
      ],
      "metadata": {
        "colab": {
          "base_uri": "https://localhost:8080/",
          "height": 101,
          "referenced_widgets": [
            "6260cea6dea24aaf83c42953d297c082",
            "c2e22f4488f54c79badaec11cdd01d02",
            "43aa00f8b6654ef5b058ececef58696d",
            "9c22a61a14b441fe81627f3bf118eec9",
            "c7584ea2870b4d45a2c2d7684a0e52b1",
            "cc4580af82d24367ae82e8ae58eddf87",
            "74835c9461514858ae0fef95d6c9f3c7",
            "9dde595c61914410aff50ff044fedda5",
            "e14b2e4b9ff940fa97074f7c2aef52f0",
            "a2dbd1a089754a989d8435d4c8c0e63e",
            "8daf1d5306a045a298ee43184940f12e"
          ]
        },
        "id": "3gmMbtqPizfh",
        "outputId": "b5a146b3-fb5c-49be-9d0f-940da4cb127d"
      },
      "execution_count": null,
      "outputs": [
        {
          "output_type": "stream",
          "name": "stderr",
          "text": [
            "/usr/local/lib/python3.7/dist-packages/ipykernel_launcher.py:9: TqdmDeprecationWarning: This function will be removed in tqdm==5.0.0\n",
            "Please use `tqdm.notebook.tqdm` instead of `tqdm.tqdm_notebook`\n",
            "  if __name__ == '__main__':\n"
          ]
        },
        {
          "output_type": "display_data",
          "data": {
            "text/plain": [
              "  0%|          | 0/5 [00:00<?, ?it/s]"
            ],
            "application/vnd.jupyter.widget-view+json": {
              "version_major": 2,
              "version_minor": 0,
              "model_id": "6260cea6dea24aaf83c42953d297c082"
            }
          },
          "metadata": {}
        }
      ]
    },
    {
      "cell_type": "code",
      "source": [
        "# Feature Extraction - \"Mean Encoding\" Features\n",
        "\n",
        "# Generate features using mean encoding of three variables (item ID, shop ID, and item category ID)\n",
        "\n",
        "# First clip the target values for the generation of the mean encodings\n",
        "train_data_monthly['target'] = train_data_monthly['target'].clip(0, 20)\n",
        "\n",
        "# Mean encoding of \"item_id\" feature\n",
        "train_data_monthly['mean_encode_item'] = train_data_monthly.groupby('item_id')['target'].transform('mean')\n",
        "train_data_monthly['mean_encode_item'].fillna(train_data_monthly['target'].values.mean(), inplace = True)\n",
        "\n",
        "# Mean encoding of \"shop_id\" feature\n",
        "train_data_monthly['mean_encode_shop'] = train_data_monthly.groupby('shop_id')['target'].transform('mean')\n",
        "train_data_monthly['mean_encode_shop'].fillna(train_data_monthly['target'].values.mean(), inplace = True)\n",
        "\n",
        "# Mean encoding of \"item_category_id\" feature\n",
        "train_data_monthly['mean_encode_cat_id'] = train_data_monthly.groupby('item_category_id')['target'].transform('mean')\n",
        "train_data_monthly['mean_encode_cat_id'].fillna(train_data_monthly['target'].values.mean(), inplace = True)\n",
        "\n",
        "# Downcast dtypes to save memory\n",
        "train_data_monthly = downcast_dtypes(train_data_monthly)\n",
        "gc.collect();"
      ],
      "metadata": {
        "colab": {
          "base_uri": "https://localhost:8080/"
        },
        "id": "XVoCUtgVTbnD",
        "outputId": "929ec1e3-6a80-458c-d0b6-83ecdde3f4b3"
      },
      "execution_count": null,
      "outputs": [
        {
          "output_type": "stream",
          "name": "stderr",
          "text": [
            "/usr/local/lib/python3.7/dist-packages/ipykernel_launcher.py:6: SettingWithCopyWarning: \n",
            "A value is trying to be set on a copy of a slice from a DataFrame.\n",
            "Try using .loc[row_indexer,col_indexer] = value instead\n",
            "\n",
            "See the caveats in the documentation: https://pandas.pydata.org/pandas-docs/stable/user_guide/indexing.html#returning-a-view-versus-a-copy\n",
            "  \n"
          ]
        }
      ]
    },
    {
      "cell_type": "code",
      "source": [
        "# Training and Validation Data Splitting\n",
        "\n",
        "# Drop columns of \"target\" and other related features from the training and testing data\n",
        "to_drop_cols = ['target', 'shop_block_target_mean','item_block_target_mean', 'item_price_mean']\n",
        "\n",
        "# Train and validation split (the data of the last month was separated to be the validation data)\n",
        "X_train = train_data_monthly[train_data_monthly.date_block_num < 33].drop(to_drop_cols, axis=1)\n",
        "y_train = train_data_monthly[train_data_monthly.date_block_num < 33]['target'].clip(0, 20).values\n",
        "X_valid = train_data_monthly[train_data_monthly.date_block_num == 33].drop(to_drop_cols, axis=1)\n",
        "y_valid = train_data_monthly[train_data_monthly.date_block_num == 33]['target'].clip(0, 20).values\n",
        "X_test = train_data_monthly[train_data_monthly.date_block_num == 34].drop(to_drop_cols, axis=1)"
      ],
      "metadata": {
        "id": "m2Egynk7lSJ-"
      },
      "execution_count": null,
      "outputs": []
    },
    {
      "cell_type": "code",
      "source": [
        "# LightGBM Model Training\n",
        "\n",
        "# LightGBM model is used and RMSE is used for metric optimization\n",
        "\n",
        "# Instead of training the model, you can load it from \"lgb_model.pkl\" as follows: lgb_model = pickle.load(open(os.path.join(DATA_FOLDER, 'lgb_model.pkl'), 'rb'))\n",
        "\n",
        "lgb_params = {\n",
        "               'feature_fraction': 0.7,\n",
        "               'objective': 'rmse',\n",
        "               'metric': 'rmse',\n",
        "               'nthread':1, \n",
        "               'min_data_in_leaf': 250, \n",
        "               'bagging_fraction': 0.75, \n",
        "               'learning_rate': 0.03, \n",
        "               'objective': 'rmse', \n",
        "               'bagging_seed': 2**7, \n",
        "               'num_leaves': 200,\n",
        "               'bagging_freq':5,\n",
        "               'verbose':0, \n",
        "               'force_col_wise' : True,\n",
        "               'seed':1\n",
        "              }\n",
        "\n",
        "lgb_model = lgb.train(lgb_params, lgb.Dataset(X_train, label=y_train), 2000, \n",
        "                          valid_sets = [lgb.Dataset(X_train, label=y_train), lgb.Dataset(X_valid, label=y_valid)], verbose_eval=True, \n",
        "                          early_stopping_rounds=20)\n",
        "\n",
        "pred_lgb = lgb_model.predict(X_valid.values)\n",
        "print('Test R-squared for LightGBM is %f' % r2_score(y_valid, pred_lgb))"
      ],
      "metadata": {
        "id": "ZTMdv_camkWR"
      },
      "execution_count": null,
      "outputs": []
    },
    {
      "cell_type": "code",
      "source": [
        "# Saving the Model\n",
        "\n",
        "pickle.dump(lgb_model, open(os.path.join(DATA_FOLDER, 'lgb_model.pkl'), 'wb'))"
      ],
      "metadata": {
        "id": "UkHshFTI214B"
      },
      "execution_count": null,
      "outputs": []
    },
    {
      "cell_type": "code",
      "source": [
        "# Target Prediction of Testing Data using LightLGB Model and Submission File Generation\n",
        "\n",
        "pred_lgb = lgb_model.predict(X_test.values)\n",
        "\n",
        "submission = pd.DataFrame({\n",
        "    \"ID\": test_data.index, \n",
        "    \"item_cnt_month\": pred_lgb.clip(0, 20) #Predicted target values are clipped from 0 to 20 as done with the training data\n",
        "})\n",
        "\n",
        "submission.to_csv(os.path.join(DATA_FOLDER, 'submission_LGB.csv'), index=False)"
      ],
      "metadata": {
        "id": "xXPJJspCV4Vh"
      },
      "execution_count": null,
      "outputs": []
    },
    {
      "cell_type": "code",
      "source": [
        "# Ensemble Model Training\n",
        "\n",
        "# Instead of training the ensemble model, you can load it from \"ensemble_model.pkl\" as follows: lr_ensemble = pickle.load(open(os.path.join(DATA_FOLDER, 'ensemble_model.pkl'), 'rb'))\n",
        "\n",
        "# Fitting a linear regression model\n",
        "lr = LinearRegression()\n",
        "lr.fit(X_train.values, y_train)\n",
        "pred_lr = lr.predict(X_valid.values)\n",
        "print('Test R-squared for LightGBM is %f' % r2_score(y_valid, pred_lr))\n",
        "\n",
        "# Combining the predictions of the linear regression model and the LightGBM model\n",
        "pred_lr = lr.predict(X_test.values)\n",
        "X_test_level2 = np.c_[pred_lr, pred_lgb]\n",
        "\n",
        "# Build Level 2 True Targets\n",
        "train_data_monthly_level2 = train_data_monthly[train_data_monthly.date_block_num >= 27]\n",
        "y_train_level2 = train_data_monthly_level2[train_data_monthly_level2.date_block_num < 34]['target'].clip(0, 20).values"
      ],
      "metadata": {
        "id": "_FTyhd68V9mp"
      },
      "execution_count": null,
      "outputs": []
    },
    {
      "cell_type": "code",
      "source": [
        "# Building Level 2 Training Feature Matrix and Predict its Targets using Cross-validation with Linear Regression and LightGBM Models\n",
        "\n",
        "X_train_level2 = np.zeros([y_train_level2.shape[0], 2])\n",
        "\n",
        "for cur_block_num in [27, 28, 29, 30, 31, 32, 33]: \n",
        "\n",
        "    print(cur_block_num) \n",
        "    \n",
        "    # Create training and validation splits\n",
        "    X_train_split = train_data_monthly[train_data_monthly.date_block_num <  cur_block_num].drop(to_drop_cols, axis=1)\n",
        "    X_test_split  = train_data_monthly[train_data_monthly.date_block_num == cur_block_num].drop(to_drop_cols, axis=1)\n",
        "    y_train_split = train_data_monthly[train_data_monthly.date_block_num <  cur_block_num]['target'].clip(0, 20).values\n",
        "    y_test_split =  train_data_monthly[train_data_monthly.date_block_num == cur_block_num]['target'].clip(0, 20).values\n",
        "\n",
        "    # Fitting linear regression model\n",
        "    lr = LinearRegression()\n",
        "    lr.fit(X_train_split.values, y_train_split)\n",
        "    pred_lr = lr.predict(X_test_split.values)\n",
        "    \n",
        "    # Fitting LightGBM model\n",
        "    model = lgb.train(lgb_params, lgb.Dataset(X_train_split, label=y_train_split), 100)\n",
        "    pred_lgb = model.predict(X_test_split)\n",
        "\n",
        "    # Combining the predictions of Linear Regression and LightGBM models\n",
        "    train_data_len = train_data_monthly_level2[train_data_monthly_level2.date_block_num < cur_block_num].shape[0]\n",
        "    test_data_len = train_data_monthly_level2[train_data_monthly_level2.date_block_num == cur_block_num].shape[0]    \n",
        "    X_train_level2[train_data_len:train_data_len+test_data_len, 0] = pred_lr\n",
        "    X_train_level2[train_data_len:train_data_len+test_data_len, 1] = pred_lgb"
      ],
      "metadata": {
        "colab": {
          "base_uri": "https://localhost:8080/"
        },
        "id": "mgbJZlOxIKyH",
        "outputId": "28cb24ff-ed88-4401-e601-3cef915d4bd3"
      },
      "execution_count": null,
      "outputs": [
        {
          "output_type": "stream",
          "name": "stdout",
          "text": [
            "27\n",
            "28\n",
            "29\n",
            "30\n",
            "31\n",
            "32\n",
            "33\n"
          ]
        }
      ]
    },
    {
      "cell_type": "code",
      "source": [
        "# Target Prediction of Testing Meta-features using Ensemble Model (Stacking) and Submission File Generation\n",
        "\n",
        "# Fitting the ensemble model\n",
        "lr_ensemble = LinearRegression()\n",
        "lr_ensemble.fit(X_train_level2, y_train_level2)\n",
        "\n",
        "# Saving the ensemble model\n",
        "pickle.dump(lr_ensemble, open(os.path.join(DATA_FOLDER, 'ensemble_model.pkl'), 'wb'))\n",
        "\n",
        "# Predicting the targets of testing meta-features\n",
        "pred_ens = lr_ensemble.predict(X_test_level2)\n",
        "\n",
        "submission = pd.DataFrame({\n",
        "    \"ID\": test_data.index, \n",
        "    \"item_cnt_month\": pred_ens.clip(0, 20) #Predicted target values are clipped from 0 to 20 as done with the training data\n",
        "})\n",
        "\n",
        "submission.to_csv(os.path.join(DATA_FOLDER, 'submission_ENS.csv'), index=False)"
      ],
      "metadata": {
        "id": "eSSGJGpfUTlr"
      },
      "execution_count": null,
      "outputs": []
    }
  ]
}